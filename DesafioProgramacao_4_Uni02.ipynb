{
 "cells": [
  {
   "cell_type": "code",
   "execution_count": 40,
   "id": "3f476be6-3c9f-45b8-83c1-cbf9a480a63f",
   "metadata": {},
   "outputs": [],
   "source": [
    "def moedas(valor):\n",
    "    cinquenta_centavos = 0\n",
    "    vinte_cinco_centavos = 0\n",
    "    dez_centavos = 0\n",
    "    cinco_centavos = 0\n",
    "    \n",
    "    while(valor >= 5):\n",
    "        if(valor >= 50):\n",
    "            cinquenta_centavos += 1\n",
    "            valor -= 50\n",
    "        elif(valor >= 25):\n",
    "            vinte_cinco_centavos += 1\n",
    "            valor -= 25\n",
    "        elif(valor >= 10):\n",
    "            dez_centavos += 1\n",
    "            valor -= 10\n",
    "        elif(valor >= 5):\n",
    "            dez_centavos += 1\n",
    "            valor -= 5\n",
    "    \n",
    "    print(\"Moedas de cinquenta centavos: \", cinquenta_centavos)\n",
    "    print(\"Moedas de vinte e cinco centavos: \", vinte_cinco_centavos)\n",
    "    print(\"Moedas de dez centavos: \", dez_centavos)\n",
    "    print(\"Moedas de cinco centavos: \", cinco_centavos)\n",
    "    \n",
    "def notas(valor):\n",
    "    duzentos_reais = 0\n",
    "    cem_reais = 0\n",
    "    cinquenta_reais = 0\n",
    "    vinte_reais = 0\n",
    "    dez_reais = 0\n",
    "    cinco_reais = 0\n",
    "    dois_reais = 0\n",
    "    um_real = 0\n",
    "    \n",
    "    while(valor >= 1):\n",
    "        if(valor >= 200):\n",
    "            duzentos_reais += 1\n",
    "            valor -= 200\n",
    "        elif(valor >= 100):\n",
    "            cem_reais += 1\n",
    "            valor -= 100\n",
    "        elif(valor >= 50):\n",
    "            cinquenta_reais += 1\n",
    "            valor -= 50\n",
    "        elif(valor >= 20):\n",
    "            vinte_reais += 1\n",
    "            valor -= 20\n",
    "        elif(valor >= 10):\n",
    "            dez_reais += 1\n",
    "            valor -= 10\n",
    "        elif(valor >= 5):\n",
    "            cinco_reais += 1\n",
    "            valor -= 5\n",
    "        elif(valor >= 2):\n",
    "            dois_reais += 1\n",
    "            valor -= 2\n",
    "        elif(valor >= 1):\n",
    "            um_real += 1\n",
    "            valor -= 1\n",
    "    \n",
    "    print(\"Notas de duzentos reais: \", duzentos_reais)\n",
    "    print(\"Notas de cem reais: \", cem_reais)\n",
    "    print(\"Notas de cinquenta reais: \", cinquenta_reais)\n",
    "    print(\"Notas de vinte reais: \", vinte_reais)\n",
    "    print(\"Notas de dez reais: \", dez_reais)\n",
    "    print(\"Notas de cinco reais: \", cinco_reais)\n",
    "    print(\"Notas de dois reais: \", dois_reais)\n",
    "    print(\"Moedas de um real: \", um_real, \"\\n\")"
   ]
  },
  {
   "cell_type": "code",
   "execution_count": 41,
   "id": "8dfcb66b-c79d-4b9e-81e8-caf096d36f79",
   "metadata": {},
   "outputs": [],
   "source": [
    "def troco(troco_valor):\n",
    "    aux = str(troco_valor)\n",
    "    aux =  aux.split(\".\")\n",
    "    notas_valor = int(aux[0])\n",
    "    moedas_valor = int(aux[1])*10\n",
    "    \n",
    "    print(\"\\n======TROCO======\")\n",
    "    print(\"Troco a ser recebido: \", troco_valor, \"\\n\")\n",
    "    notas(notas_valor)\n",
    "    moedas(moedas_valor)\n",
    "    "
   ]
  },
  {
   "cell_type": "code",
   "execution_count": 42,
   "id": "5c71c01d-9716-4106-8022-1bd7d3bdb8cc",
   "metadata": {},
   "outputs": [
    {
     "name": "stdout",
     "output_type": "stream",
     "text": [
      "Valor compra: \n"
     ]
    },
    {
     "name": "stdin",
     "output_type": "stream",
     "text": [
      " 2.5\n"
     ]
    },
    {
     "name": "stdout",
     "output_type": "stream",
     "text": [
      "Valor para pagamento: \n"
     ]
    },
    {
     "name": "stdin",
     "output_type": "stream",
     "text": [
      " 200\n"
     ]
    },
    {
     "name": "stdout",
     "output_type": "stream",
     "text": [
      "\n",
      "======TROCO======\n",
      "Troco a ser recebido:  197.5 \n",
      "\n",
      "Notas de duzentos reais:  0\n",
      "Notas de cem reais:  1\n",
      "Notas de cinquenta reais:  1\n",
      "Notas de vinte reais:  2\n",
      "Notas de dez reais:  0\n",
      "Notas de cinco reais:  1\n",
      "Notas de dois reais:  1\n",
      "Moedas de um real:  0 \n",
      "\n",
      "Moedas de cinquenta centavos:  1\n",
      "Moedas de vinte e cinco centavos:  0\n",
      "Moedas de dez centavos:  0\n",
      "Moedas de cinco centavos:  0\n"
     ]
    }
   ],
   "source": [
    "print(\"Valor compra: \")\n",
    "compra = float(input())\n",
    "print(\"Valor para pagamento: \")\n",
    "valor = float(input())\n",
    "\n",
    "troco_valor = valor - compra\n",
    "troco(troco_valor)"
   ]
  },
  {
   "cell_type": "code",
   "execution_count": null,
   "id": "51bfc7c4-627d-4b91-a22a-2c66278c19c2",
   "metadata": {},
   "outputs": [],
   "source": []
  }
 ],
 "metadata": {
  "kernelspec": {
   "display_name": "Python 3 (ipykernel)",
   "language": "python",
   "name": "python3"
  },
  "language_info": {
   "codemirror_mode": {
    "name": "ipython",
    "version": 3
   },
   "file_extension": ".py",
   "mimetype": "text/x-python",
   "name": "python",
   "nbconvert_exporter": "python",
   "pygments_lexer": "ipython3",
   "version": "3.9.6"
  }
 },
 "nbformat": 4,
 "nbformat_minor": 5
}
