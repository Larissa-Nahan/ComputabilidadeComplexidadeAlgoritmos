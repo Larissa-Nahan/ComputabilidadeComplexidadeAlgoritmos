{
 "cells": [
  {
   "cell_type": "code",
   "execution_count": null,
   "id": "be841a2a-3bab-4863-a185-d88f180acb1c",
   "metadata": {},
   "outputs": [],
   "source": [
    "## PERGUNTA 1 ##"
   ]
  },
  {
   "cell_type": "code",
   "execution_count": 179,
   "id": "c4f9076c-1d78-48c0-a220-73fdb72c47f6",
   "metadata": {},
   "outputs": [],
   "source": [
    "### ITERATIVO ###\n",
    "# ENTRADA: lista, tamanho_lista, elemento_buscado\n",
    "# SAIDA: o índice do elemento_buscado\n",
    "\n",
    "def indice_iterativo(lista, tamanho_lista, elemento_buscado):\n",
    "    j = 0\n",
    "        \n",
    "    if tamanho_lista == 0:\n",
    "        return None\n",
    "    \n",
    "    while j < tamanho_lista and lista[j] < elemento_buscado:\n",
    "        j += 1\n",
    "        \n",
    "    if j >= tamanho_lista:\n",
    "        j = tamanho_lista-1\n",
    "    if lista[j] != elemento_buscado:\n",
    "        return None\n",
    "\n",
    "    return j"
   ]
  },
  {
   "cell_type": "code",
   "execution_count": 180,
   "id": "13fa9e1c-29f3-4fc5-9105-496d381e9c5d",
   "metadata": {},
   "outputs": [
    {
     "name": "stdout",
     "output_type": "stream",
     "text": [
      "3\n",
      "None\n",
      "None\n",
      "None\n"
     ]
    }
   ],
   "source": [
    "lista = [1, 2, 3, 4, 5, 6, 7, 8, 9, 10]\n",
    "print(indice_iterativo(lista, len(lista), 4))\n",
    "\n",
    "lista = []\n",
    "print(indice_iterativo(lista, len(lista), 4))\n",
    "\n",
    "lista = [1, 2, 3, 4, 5, 6, 7, 8, 9, 10]\n",
    "print(indice_iterativo(lista, len(lista), 14))\n",
    "\n",
    "lista = [1, 2, 3, 4, 5, 6, 7, 8, 9, 10]\n",
    "print(indice_iterativo(lista, len(lista), -4))"
   ]
  },
  {
   "cell_type": "code",
   "execution_count": null,
   "id": "bfd3a1a7-394b-4130-b1e7-7ec9782278de",
   "metadata": {},
   "outputs": [],
   "source": []
  },
  {
   "cell_type": "code",
   "execution_count": 181,
   "id": "c8d3128d-3ca9-450c-a155-80bc47694e40",
   "metadata": {},
   "outputs": [],
   "source": [
    "### RECURSIVO ###\n",
    "# ENTRADA: lista, tamanho_lista, elemento_buscado\n",
    "# SAIDA: o índice do elemento_buscado\n",
    "\n",
    "def indice_recursivo(lista, tamanho_lista, elemento_buscado):\n",
    "    #print(tamanho_lista)\n",
    "    if tamanho_lista == 0:\n",
    "        return None\n",
    "    \n",
    "    if lista[tamanho_lista-1] == elemento_buscado:\n",
    "        return tamanho_lista-1\n",
    "    else:\n",
    "        return indice_recursivo(lista, tamanho_lista-1, elemento_buscado)\n"
   ]
  },
  {
   "cell_type": "code",
   "execution_count": 182,
   "id": "97545e0d-4b96-49d3-8990-2f24a7172eb5",
   "metadata": {},
   "outputs": [
    {
     "name": "stdout",
     "output_type": "stream",
     "text": [
      "3\n",
      "None\n",
      "None\n",
      "None\n"
     ]
    }
   ],
   "source": [
    "lista = [1, 2, 3, 4, 5, 6, 7, 8, 9, 10]\n",
    "print(indice_recursivo(lista, len(lista), 4))\n",
    "\n",
    "lista = []\n",
    "print(indice_recursivo(lista, len(lista), 4))\n",
    "\n",
    "lista = [1, 2, 3, 4, 5, 6, 7, 8, 9, 10]\n",
    "print(indice_recursivo(lista, len(lista), 14))\n",
    "\n",
    "lista = [1, 2, 3, 4, 5, 6, 7, 8, 9, 10]\n",
    "print(indice_recursivo(lista, len(lista), -4))"
   ]
  },
  {
   "cell_type": "code",
   "execution_count": null,
   "id": "3e6e194d-5cdd-400d-aa83-c0765e1e27fb",
   "metadata": {},
   "outputs": [],
   "source": [
    "## PERGUNTA 2 ##"
   ]
  },
  {
   "cell_type": "code",
   "execution_count": 200,
   "id": "95702756-8e4a-4eb6-b3b2-636bcb74de95",
   "metadata": {},
   "outputs": [],
   "source": [
    "### ITERATIVO ###\n",
    "# ENTRADA: numero1 e numero2, |numero1 < numero2|\n",
    "# SAIDA: o máximo divisor comum\n",
    "\n",
    "def mdc_iterativo(num1, num2):\n",
    "    if num1 >= num2 or num1 < 0 or num2 < 0:\n",
    "        return \"Valores inválidos\"\n",
    "    \n",
    "    mdc = 1\n",
    "    div = 2\n",
    "    \n",
    "    while div <= num1:\n",
    "        if num1 % div == 0 and num2 % div == 0:\n",
    "            mdc = div\n",
    "        div += 1\n",
    "            \n",
    "    return mdc"
   ]
  },
  {
   "cell_type": "code",
   "execution_count": 215,
   "id": "79708fb5-4024-424a-8af2-a92571ed9c57",
   "metadata": {},
   "outputs": [
    {
     "name": "stdout",
     "output_type": "stream",
     "text": [
      "27\n",
      "Valores inválidos\n",
      "Valores inválidos\n"
     ]
    }
   ],
   "source": [
    "print(mdc_iterativo(27, 108))\n",
    "\n",
    "print(mdc_iterativo(108, 27))\n",
    "\n",
    "print(mdc_iterativo(-10, 20))"
   ]
  },
  {
   "cell_type": "code",
   "execution_count": 208,
   "id": "e1e241e6-058c-44e7-a61d-d64aaf8c8c2e",
   "metadata": {},
   "outputs": [],
   "source": [
    "### RECURSIVO ###\n",
    "# ENTRADA: numero1 e numero2, |numero1 < numero2|\n",
    "# SAIDA: o máximo divisor comum\n",
    "\n",
    "def mdc_recursivo(num1, num2):\n",
    "    if num1 >= num2 or num1 < 0 or num2 < 0:\n",
    "        return \"Valores inválidos\"\n",
    "    \n",
    "    if num1 % div == 0 and num2 % div == 0:\n",
    "        return mdc_recursivo(num2, num1%num2)\n"
   ]
  },
  {
   "cell_type": "code",
   "execution_count": 214,
   "id": "6579e8d3-2b5f-43f9-a341-4bf7238a48c9",
   "metadata": {},
   "outputs": [
    {
     "name": "stdout",
     "output_type": "stream",
     "text": [
      "27\n",
      "Valores inválidos\n",
      "Valores inválidos\n"
     ]
    }
   ],
   "source": [
    "print(mdc_iterativo(27, 108))\n",
    "\n",
    "print(mdc_iterativo(108, 27))\n",
    "\n",
    "print(mdc_iterativo(-10, 20))"
   ]
  },
  {
   "cell_type": "code",
   "execution_count": null,
   "id": "e72b0906-fa2f-4466-8061-6b36262c49ae",
   "metadata": {},
   "outputs": [],
   "source": []
  }
 ],
 "metadata": {
  "kernelspec": {
   "display_name": "Python 3 (ipykernel)",
   "language": "python",
   "name": "python3"
  },
  "language_info": {
   "codemirror_mode": {
    "name": "ipython",
    "version": 3
   },
   "file_extension": ".py",
   "mimetype": "text/x-python",
   "name": "python",
   "nbconvert_exporter": "python",
   "pygments_lexer": "ipython3",
   "version": "3.9.6"
  }
 },
 "nbformat": 4,
 "nbformat_minor": 5
}
